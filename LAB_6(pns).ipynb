{
  "nbformat": 4,
  "nbformat_minor": 0,
  "metadata": {
    "colab": {
      "provenance": [],
      "authorship_tag": "ABX9TyO/U7o4J82f7k5nU0tQxvPY",
      "include_colab_link": true
    },
    "kernelspec": {
      "name": "python3",
      "display_name": "Python 3"
    },
    "language_info": {
      "name": "python"
    }
  },
  "cells": [
    {
      "cell_type": "markdown",
      "metadata": {
        "id": "view-in-github",
        "colab_type": "text"
      },
      "source": [
        "<a href=\"https://colab.research.google.com/github/sruthi-veeramaneni/2303A51308_PNS/blob/main/LAB_6(pns).ipynb\" target=\"_parent\"><img src=\"https://colab.research.google.com/assets/colab-badge.svg\" alt=\"Open In Colab\"/></a>"
      ]
    },
    {
      "cell_type": "code",
      "execution_count": 3,
      "metadata": {
        "colab": {
          "base_uri": "https://localhost:8080/"
        },
        "id": "0wwFxMiYZtOp",
        "outputId": "35879eef-a45a-4c63-cd91-910a7d7c672f"
      },
      "outputs": [
        {
          "output_type": "stream",
          "name": "stdout",
          "text": [
            "P(X = 60): 0.00849\n",
            "P(X >= 75): 0.16313\n",
            "Expected number of students passing: 70.0\n"
          ]
        }
      ],
      "source": [
        "from scipy.stats import binom\n",
        "\n",
        "# Given data\n",
        "N = 100  # Number of students\n",
        "p = 0.7  # Probability of passing\n",
        "\n",
        "# (i) Probability that exactly 60 students pass\n",
        "prob_60 = binom.pmf(60, N, p)\n",
        "print(f\"P(X = 60): {prob_60:.5f}\")\n",
        "\n",
        "# (ii) Probability that at least 75 students pass\n",
        "prob_at_least_75 = 1 - binom.cdf(74, N, p)\n",
        "print(f\"P(X >= 75): {prob_at_least_75:.5f}\")\n",
        "\n",
        "# (iii) Expected number of students passing\n",
        "expected_value = N * p\n",
        "print(f\"Expected number of students passing: {expected_value}\")"
      ]
    }
  ]
}