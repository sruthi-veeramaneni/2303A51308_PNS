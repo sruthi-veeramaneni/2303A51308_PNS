{
  "nbformat": 4,
  "nbformat_minor": 0,
  "metadata": {
    "colab": {
      "provenance": [],
      "authorship_tag": "ABX9TyPX8A/dmB3ydcKsrKFv6hMB",
      "include_colab_link": true
    },
    "kernelspec": {
      "name": "python3",
      "display_name": "Python 3"
    },
    "language_info": {
      "name": "python"
    }
  },
  "cells": [
    {
      "cell_type": "markdown",
      "metadata": {
        "id": "view-in-github",
        "colab_type": "text"
      },
      "source": [
        "<a href=\"https://colab.research.google.com/github/sruthi-veeramaneni/2303A51308_PNS/blob/main/LAB_3(pns).ipynb\" target=\"_parent\"><img src=\"https://colab.research.google.com/assets/colab-badge.svg\" alt=\"Open In Colab\"/></a>"
      ]
    },
    {
      "cell_type": "markdown",
      "source": [
        "#Question 1: Ungrouped Data"
      ],
      "metadata": {
        "id": "30DkLoKLa1f2"
      }
    },
    {
      "cell_type": "markdown",
      "source": [
        "Given the ungrouped dataset below, calculate the median and mode:\n",
        "Dataset: [12, 45, 67, 23, 45, 89, 45, 12, 33, 67, 67, 78, 45, 23, 23, 56, 89, 45, 33, 45]\n",
        "Tasks:\n",
        "1. Compute the median and mode using numpy.\n",
        "2. Compute the mode using pandas."
      ],
      "metadata": {
        "id": "YvGWxalFWyhv"
      }
    },
    {
      "cell_type": "code",
      "source": [
        "import numpy as np\n",
        "import pandas as pd\n",
        "data=[12, 45, 67, 23, 45, 89, 45, 12, 33, 67, 67, 78, 45, 23, 23, 56, 89, 45, 33, 45]\n",
        "median_numpy=np.median(data)\n",
        "print(\"Median using numpy:\",median_numpy)"
      ],
      "metadata": {
        "colab": {
          "base_uri": "https://localhost:8080/"
        },
        "id": "BCdGXfj8XpiA",
        "outputId": "bae4eb96-17f7-4dfe-82b2-09350602c390"
      },
      "execution_count": null,
      "outputs": [
        {
          "output_type": "stream",
          "name": "stdout",
          "text": [
            "Median using numpy: 45.0\n"
          ]
        }
      ]
    },
    {
      "cell_type": "code",
      "source": [
        "data=[12, 45, 67, 23, 45, 89, 45, 12, 33, 67, 67, 78, 45, 23, 23, 56, 89, 45, 33, 45]\n",
        "mode_numpy=np.bincount(data).argmax()\n",
        "print(\"Mode using numpy:\",mode_numpy)\n",
        "\n"
      ],
      "metadata": {
        "colab": {
          "base_uri": "https://localhost:8080/"
        },
        "id": "YsKkDTZ3YQk5",
        "outputId": "e33e5583-a413-4c6f-e039-64f84787ce23"
      },
      "execution_count": null,
      "outputs": [
        {
          "output_type": "stream",
          "name": "stdout",
          "text": [
            "Mode using numpy: 45\n"
          ]
        }
      ]
    },
    {
      "cell_type": "code",
      "source": [
        "mode_pandas = pd.Series(data).mode()[0]\n",
        "print(\"Mode using pandas:\",mode_pandas)"
      ],
      "metadata": {
        "colab": {
          "base_uri": "https://localhost:8080/"
        },
        "id": "L98zHQNsaGn8",
        "outputId": "0e3dea24-f568-452c-b751-d7e2edf14a46"
      },
      "execution_count": null,
      "outputs": [
        {
          "output_type": "stream",
          "name": "stdout",
          "text": [
            "Mode using pandas: 45\n"
          ]
        }
      ]
    },
    {
      "cell_type": "markdown",
      "source": [
        "#Question 2: Grouped Data"
      ],
      "metadata": {
        "id": "3J60tW-yal9H"
      }
    },
    {
      "cell_type": "markdown",
      "source": [
        "The following data shows the frequency of scores in a test:\n",
        "Score Frequency\n",
        "10 5\n",
        "20 8\n",
        "30 12\n",
        "40 15\n",
        "50 7\n",
        "Tasks:\n",
        "1. Compute the median and mode using numpy.\n",
        "2. Compute the mode using pandas"
      ],
      "metadata": {
        "id": "6Z8nt6eJaowy"
      }
    },
    {
      "cell_type": "code",
      "source": [
        "Score=[10,20,30,40,50]\n",
        "Frequency=[5,8,12,15,7]"
      ],
      "metadata": {
        "id": "nLMwtmYTbca_"
      },
      "execution_count": null,
      "outputs": []
    },
    {
      "cell_type": "code",
      "source": [
        "df = pd.DataFrame({'Score': Score, 'Frequency': Frequency})\n",
        "median = np.median(df['Score'])\n",
        "print(\"median using numpy\",median)"
      ],
      "metadata": {
        "colab": {
          "base_uri": "https://localhost:8080/"
        },
        "id": "w2SbpabtaoMf",
        "outputId": "4e9abd12-4beb-40e7-da13-8f59ad9cdc22"
      },
      "execution_count": null,
      "outputs": [
        {
          "output_type": "stream",
          "name": "stdout",
          "text": [
            "median using numpy 30.0\n"
          ]
        }
      ]
    },
    {
      "cell_type": "code",
      "source": [
        "mode = df['Score'].mode()[0]\n",
        "print(\"mode using numpy\",mode)"
      ],
      "metadata": {
        "colab": {
          "base_uri": "https://localhost:8080/"
        },
        "id": "9JSOR42ZbguQ",
        "outputId": "00c09702-2d92-49a5-9873-69cf00bc536d"
      },
      "execution_count": null,
      "outputs": [
        {
          "output_type": "stream",
          "name": "stdout",
          "text": [
            "mode using numpy 10\n"
          ]
        }
      ]
    },
    {
      "cell_type": "markdown",
      "source": [
        "#Question 3: Grouped Data"
      ],
      "metadata": {
        "id": "BBPYNGNpgQN_"
      }
    },
    {
      "cell_type": "markdown",
      "source": [
        "The following data represents a frequency distribution with class intervals:\n",
        "Class Interval Frequency\n",
        "0 − 10 4\n",
        "10 − 20 6\n",
        "20 − 30 10\n",
        "30 − 40 8\n",
        "40 − 50 2\n",
        "1\n",
        "Tasks:\n",
        "1. Use the class intervals and frequencies to compute the median and mode.\n",
        "2. Approximate the median and mode using formulas for grouped data."
      ],
      "metadata": {
        "id": "JuUaJWGMgBBB"
      }
    },
    {
      "cell_type": "code",
      "source": [
        "import pandas as pd\n",
        "import numpy as np\n",
        "\n",
        "class_intervals = [(0, 10), (10,20), (20,30), (30,40),(40,50)]\n",
        "frequencies = [4,6,10,8,2]\n",
        "df = pd.DataFrame({'Class': class_intervals, 'Frequency':frequencies})\n",
        "df['Cumulative Frequency'] = df['Frequency'].cumsum()\n",
        "\n",
        "median = np.median(df['Class'])\n",
        "\n",
        "mode = df['Class'].mode()[0]\n",
        "mode = df['Class'].mode()[0]\n",
        "print(f\"Median: {median}\")\n",
        "print(f\"Mode: {mode}\")"
      ],
      "metadata": {
        "colab": {
          "base_uri": "https://localhost:8080/"
        },
        "id": "XdyHEcACf-KC",
        "outputId": "d1826dd2-f1d7-4533-fd54-870bdc0f9c42"
      },
      "execution_count": null,
      "outputs": [
        {
          "output_type": "stream",
          "name": "stdout",
          "text": [
            "Median: [20. 30.]\n",
            "Mode: (0, 10)\n"
          ]
        }
      ]
    },
    {
      "cell_type": "code",
      "source": [],
      "metadata": {
        "id": "ZfSzfUZsgSJ7"
      },
      "execution_count": null,
      "outputs": []
    }
  ]
}