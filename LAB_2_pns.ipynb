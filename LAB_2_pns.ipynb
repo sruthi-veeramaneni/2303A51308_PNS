{
  "nbformat": 4,
  "nbformat_minor": 0,
  "metadata": {
    "colab": {
      "provenance": [],
      "authorship_tag": "ABX9TyM4sbsICYp08f1FapEu68kO",
      "include_colab_link": true
    },
    "kernelspec": {
      "name": "python3",
      "display_name": "Python 3"
    },
    "language_info": {
      "name": "python"
    }
  },
  "cells": [
    {
      "cell_type": "markdown",
      "metadata": {
        "id": "view-in-github",
        "colab_type": "text"
      },
      "source": [
        "<a href=\"https://colab.research.google.com/github/sruthi-veeramaneni/2303A51308_PNS/blob/main/LAB_2_pns.ipynb\" target=\"_parent\"><img src=\"https://colab.research.google.com/assets/colab-badge.svg\" alt=\"Open In Colab\"/></a>"
      ]
    },
    {
      "cell_type": "markdown",
      "source": [
        "The dataset below represents the ages of 500 people in a city:\n",
        "Data (Ages):\n",
        "Data: [45, 67, 89, 23, 45, 67, 89, 34, 56, 78, 90, 21, 45, 67, 89, 23, 45,\n",
        "56, 78, 34, 23, 45, 67, 89, 45, 67, 89, 12, 34, 56, 78, 90, 23, 45,\n",
        "67, 12, 34, 78, 45, 67, 89, 34, 56, 78, 90, 23, 56, 78, 89, 45, 12,\n",
        "67, 45, 78, 23, 45, 67, 89, 34, 45, 23, 78, 67, 89, 45, 67, 89, 12,\n",
        "34, 56, 78, 90, 23, 12, 34, 56, 78, 23, 45, 67, 89, 34, 45, 23, 45,\n",
        "67, 89, 12, 34, 56, 78, 90, 45, 23].\n",
        "• Use numpy and pandas to calculate the median and mode of the dataset.\n",
        "• Comment on the efficiency of your approach"
      ],
      "metadata": {
        "id": "ZijD9XMCbJ_n"
      }
    },
    {
      "cell_type": "code",
      "execution_count": null,
      "metadata": {
        "id": "pCkEU-xka1uF"
      },
      "outputs": [],
      "source": [
        "import numpy as np"
      ]
    },
    {
      "cell_type": "code",
      "source": [
        "ages = [45, 67, 89, 23, 45, 67, 89, 34, 56, 78, 90, 21, 45, 67, 89, 23, 45, 56, 78, 34,\n",
        "    23, 45, 67, 89, 45, 67, 89, 12, 34, 56, 78, 90, 23, 45, 67, 12, 34, 78, 45, 67,\n",
        "    89, 34, 56, 78, 90, 23, 56, 78, 89, 45, 12, 67, 45, 78, 23, 45, 67, 89, 34, 45,\n",
        "    23, 78, 67, 89, 45, 67, 89, 12, 34, 56, 78, 90, 23, 12, 34, 56, 78, 23, 45, 67,\n",
        "    89, 34, 45, 23, 45, 67, 89, 12, 34, 56, 78, 90, 45, 23]"
      ],
      "metadata": {
        "id": "0ZmmCHbWbuhQ"
      },
      "execution_count": null,
      "outputs": []
    },
    {
      "cell_type": "code",
      "source": [
        "sum(ages)"
      ],
      "metadata": {
        "colab": {
          "base_uri": "https://localhost:8080/"
        },
        "id": "dgjSUchXb8Xz",
        "outputId": "c03f2969-eaec-473c-a2ab-c06049b86cb7"
      },
      "execution_count": null,
      "outputs": [
        {
          "output_type": "execute_result",
          "data": {
            "text/plain": [
              "5146"
            ]
          },
          "metadata": {},
          "execution_count": 5
        }
      ]
    },
    {
      "cell_type": "code",
      "source": [
        "len(ages)"
      ],
      "metadata": {
        "colab": {
          "base_uri": "https://localhost:8080/"
        },
        "id": "-NlXyHKocJZb",
        "outputId": "690035ce-0496-43ee-8d0e-1740fdb7d2ea"
      },
      "execution_count": null,
      "outputs": [
        {
          "output_type": "execute_result",
          "data": {
            "text/plain": [
              "94"
            ]
          },
          "metadata": {},
          "execution_count": 6
        }
      ]
    },
    {
      "cell_type": "code",
      "source": [
        "mean=sum(ages)/len(ages)"
      ],
      "metadata": {
        "id": "RWtbxrMmcbdv"
      },
      "execution_count": null,
      "outputs": []
    },
    {
      "cell_type": "code",
      "source": [
        "print(mean)"
      ],
      "metadata": {
        "colab": {
          "base_uri": "https://localhost:8080/"
        },
        "id": "JqXb5iEudclI",
        "outputId": "cd1da851-7abe-4da9-c185-f60e3ed2c460"
      },
      "execution_count": null,
      "outputs": [
        {
          "output_type": "stream",
          "name": "stdout",
          "text": [
            "54.744680851063826\n"
          ]
        }
      ]
    },
    {
      "cell_type": "markdown",
      "source": [
        "The table below represents the scores of 2000 students in an exam and their corresponding\n",
        "frequencies:\n",
        "Scores (X): [10, 20, 30, 40, 50, 60, 70, 80, 90, 100]\n",
        "Frequency (F): [200, 350, 400, 300, 250, 200, 150, 80, 50, 20]\n",
        "• Use pandas to calculate the median and mode of this grouped data.\n",
        "• Write a Python function to handle grouped data calculations efficiently for large\n",
        "datasets.\n",
        "1\n"
      ],
      "metadata": {
        "id": "QTM5LBgud2Iq"
      }
    },
    {
      "cell_type": "code",
      "source": [
        "Scores = [10, 20, 30, 40, 50, 60, 70, 80, 90, 100]\n"
      ],
      "metadata": {
        "id": "RzAlTBoKd6Pd"
      },
      "execution_count": null,
      "outputs": []
    },
    {
      "cell_type": "code",
      "source": [
        "Frequency = [200, 350, 400, 300, 250, 200, 150, 80, 50, 20]"
      ],
      "metadata": {
        "id": "lMF0_dl5ezA8"
      },
      "execution_count": null,
      "outputs": []
    },
    {
      "cell_type": "code",
      "source": [
        "sum(Frequency)"
      ],
      "metadata": {
        "colab": {
          "base_uri": "https://localhost:8080/"
        },
        "id": "jMftUrOxfHgg",
        "outputId": "0f9dc481-8c80-4e01-cce2-fc07d51c01d1"
      },
      "execution_count": null,
      "outputs": [
        {
          "output_type": "execute_result",
          "data": {
            "text/plain": [
              "2000"
            ]
          },
          "metadata": {},
          "execution_count": 24
        }
      ]
    },
    {
      "cell_type": "code",
      "source": [
        "sum_fx=sum(Frequency*Scores for Frequency,Scores in zip(Frequency,Scores))"
      ],
      "metadata": {
        "id": "O4tLPDTifkcN"
      },
      "execution_count": null,
      "outputs": []
    },
    {
      "cell_type": "code",
      "source": [
        "mean=sum_fx/sum(Frequency)"
      ],
      "metadata": {
        "id": "Cq8VWwgZhYZj"
      },
      "execution_count": null,
      "outputs": []
    },
    {
      "cell_type": "code",
      "source": [
        "print(mean)"
      ],
      "metadata": {
        "colab": {
          "base_uri": "https://localhost:8080/"
        },
        "id": "Zlfxe8B1hhcO",
        "outputId": "26ade680-6fb2-4cd6-e22a-d6bd20e221fa"
      },
      "execution_count": null,
      "outputs": [
        {
          "output_type": "stream",
          "name": "stdout",
          "text": [
            "40.45\n"
          ]
        }
      ]
    },
    {
      "cell_type": "markdown",
      "source": [
        "The following table shows the income distribution of 1000 households (in $1000s):\n",
        "Income Range (Class Interval) Frequency\n",
        "0 − 20 50\n",
        "20 − 40 120\n",
        "40 − 60 200\n",
        "60 − 80 300\n",
        "80 − 100 220\n",
        "100 − 120 70\n",
        "120 − 140 40\n",
        "• Use Python to calculate the median and mode for the grouped data.\n",
        "• For mode, determine the modal class.\n",
        "2\n"
      ],
      "metadata": {
        "id": "4Cp3kjuph5NR"
      }
    },
    {
      "cell_type": "code",
      "source": [
        "CI=[(0,20),(20,40),(40,60),(60,80),(80,100),(100,120),(120,140)]"
      ],
      "metadata": {
        "id": "kwbZ9Hj4iG8Z"
      },
      "execution_count": 4,
      "outputs": []
    },
    {
      "cell_type": "code",
      "source": [
        "Frequencies=[50,120,200,300,220,70,40]"
      ],
      "metadata": {
        "id": "NQBwAatpjCV7"
      },
      "execution_count": 5,
      "outputs": []
    },
    {
      "cell_type": "code",
      "source": [
        "midpoints=[(start+end)/2 for start,end in CI]"
      ],
      "metadata": {
        "id": "B1tB_ioQjKI3"
      },
      "execution_count": 6,
      "outputs": []
    },
    {
      "cell_type": "code",
      "source": [
        "sum_fx=sum(Frequencies*midpoints for Frequencies,midpoints in zip(Frequencies,midpoints))"
      ],
      "metadata": {
        "id": "_h19iFjjjg2T"
      },
      "execution_count": 7,
      "outputs": []
    },
    {
      "cell_type": "code",
      "source": [
        "mean=sum_fx/sum(Frequencies)"
      ],
      "metadata": {
        "id": "qLdvzmr3jkwL"
      },
      "execution_count": 10,
      "outputs": []
    },
    {
      "cell_type": "code",
      "source": [
        "print(mean)"
      ],
      "metadata": {
        "colab": {
          "base_uri": "https://localhost:8080/"
        },
        "id": "9tEqq0LKjn-9",
        "outputId": "bcd3559b-fd7c-4381-a7e8-e983833ddceb"
      },
      "execution_count": 11,
      "outputs": [
        {
          "output_type": "stream",
          "name": "stdout",
          "text": [
            "67.8\n"
          ]
        }
      ]
    }
  ]
}